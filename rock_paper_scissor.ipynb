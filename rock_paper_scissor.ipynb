{
  "nbformat": 4,
  "nbformat_minor": 0,
  "metadata": {
    "colab": {
      "provenance": []
    },
    "kernelspec": {
      "name": "python3",
      "display_name": "Python 3"
    },
    "language_info": {
      "name": "python"
    }
  },
  "cells": [
    {
      "cell_type": "code",
      "source": [
        "import random\n",
        "user_wins=0\n",
        "computer_wins=0\n",
        "options=['rock','paper','scissor']\n",
        "\n",
        "while True:\n",
        "  user_input=input('Type Rock/Paper/Scissor or Q to quit: ').lower()\n",
        "  if user_input=='q':\n",
        "    break\n",
        "  if user_input not in options:\n",
        "    continue\n",
        "  random_number=random.randint(0,2)\n",
        "  #rock:0,paper:1,scissor=2\n",
        "  computer_pick=options[random_number]\n",
        "  print('Computer picked',computer_pick+'.')\n",
        "  if user_input=='rock' and computer_pick=='scissor':\n",
        "    print('You won!')\n",
        "    user_wins+=1\n",
        "  elif user_input=='paper' and computer_pick=='rock':\n",
        "    print('You won!')\n",
        "    user_wins+=1\n",
        "  elif user_input=='scissor' and computer_pick=='paper':\n",
        "    print('You won!')\n",
        "    user_wins+=1\n",
        "  else:\n",
        "    print('You lost!')\n",
        "    computer_wins+=1\n",
        "print('you_won',user_wins,'times.')\n",
        "print('computer_won',computer_wins,'times.')\n",
        "print('game_completed')"
      ],
      "metadata": {
        "colab": {
          "base_uri": "https://localhost:8080/"
        },
        "id": "joE2LPdMI-gW",
        "outputId": "b42b229a-f8be-41d7-b842-7557fea722c3"
      },
      "execution_count": null,
      "outputs": [
        {
          "output_type": "stream",
          "name": "stdout",
          "text": [
            "Type Rock/Paper/Scissor or Q to quit: scissor\n",
            "Computer picked paper.\n",
            "You won!\n",
            "Type Rock/Paper/Scissor or Q to quit: rock\n",
            "Computer picked paper.\n",
            "You lost!\n",
            "Type Rock/Paper/Scissor or Q to quit: q\n",
            "you_won 1 times.\n",
            "computer_won 1 times.\n",
            "game_completed\n"
          ]
        }
      ]
    },
    {
      "cell_type": "code",
      "source": [
        "1"
      ],
      "metadata": {
        "id": "rZnwNS5EKNCo"
      },
      "execution_count": null,
      "outputs": []
    }
  ]
}