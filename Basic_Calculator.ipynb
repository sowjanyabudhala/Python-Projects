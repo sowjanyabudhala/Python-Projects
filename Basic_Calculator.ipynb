{
  "nbformat": 4,
  "nbformat_minor": 0,
  "metadata": {
    "colab": {
      "provenance": []
    },
    "kernelspec": {
      "name": "python3",
      "display_name": "Python 3"
    },
    "language_info": {
      "name": "python"
    }
  },
  "cells": [
    {
      "cell_type": "code",
      "execution_count": null,
      "metadata": {
        "colab": {
          "base_uri": "https://localhost:8080/"
        },
        "id": "1bn1_PNgXhEf",
        "outputId": "8391813f-75bf-460b-d174-8ad8c61a14a1"
      },
      "outputs": [
        {
          "output_type": "stream",
          "name": "stdout",
          "text": [
            "please select operation .\n",
            "1.add\n",
            "2.subtract\n",
            "3.multiply\n",
            "4.divide\n",
            "\n",
            "select operation from 1,2,3,4:2\n",
            "enter first number:34\n",
            "enter second number:5\n",
            "34 - 5 = 29\n"
          ]
        }
      ],
      "source": [
        "def add(num1,num2):\n",
        "    return num1+num2\n",
        "def sub(num1,num2):\n",
        "    return num1-num2\n",
        "def mul(num1,num2):\n",
        "    return num1*num2\n",
        "def div(num1,num2):\n",
        "    return num1/num2\n",
        "\n",
        "print('please select operation .\\n'\\\n",
        "      \"1.add\\n\"\\\n",
        "      \"2.subtract\\n\"\\\n",
        "      \"3.multiply\\n\"\\\n",
        "      \"4.divide\\n\"\\\n",
        "      )\n",
        "#take input from the user\n",
        "select=int(input(\"select operation from 1,2,3,4:\"))\n",
        "num1=int(input(\"enter first number:\"))\n",
        "num2=int(input(\"enter second number:\"))\n",
        "\n",
        "if select==1:\n",
        "    print(num1,\"+\",num2,\"=\",add(num1,num2))\n",
        "elif select==2:\n",
        "    print(num1,\"-\",num2,\"=\",sub(num1,num2))\n",
        "elif select==3:\n",
        "    print(num1,\"*\",num2,\"=\",mul(num1,num2))\n",
        "elif select==4:\n",
        "    print(num1,\"/\",num2,\"=\",div(num1,num2))\n",
        "else:\n",
        "    print(\"invalid input\")"
      ]
    },
    {
      "cell_type": "code",
      "source": [],
      "metadata": {
        "id": "S-a9tyiVZC0p"
      },
      "execution_count": null,
      "outputs": []
    }
  ]
}