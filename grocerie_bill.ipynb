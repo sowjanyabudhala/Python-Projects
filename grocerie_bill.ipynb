{
  "nbformat": 4,
  "nbformat_minor": 0,
  "metadata": {
    "colab": {
      "provenance": []
    },
    "kernelspec": {
      "name": "python3",
      "display_name": "Python 3"
    },
    "language_info": {
      "name": "python"
    }
  },
  "cells": [
    {
      "cell_type": "code",
      "execution_count": null,
      "metadata": {
        "colab": {
          "base_uri": "https://localhost:8080/"
        },
        "id": "OD3hJrtfgOc4",
        "outputId": "3c2b01ca-861d-4ddf-ab8f-ef67d366aa11"
      },
      "outputs": [
        {
          "output_type": "stream",
          "name": "stdout",
          "text": [
            "enter the vegetable u want:capsicum\n",
            "enter the quantity of vegetablescapsicum:5\n",
            "total_bill: 450.00 rupees only\n"
          ]
        }
      ],
      "source": [
        "vegetables=['brinjal','potato','carrot','capsicum','ladysfinger']\n",
        "items=input('enter the vegetable u want:')\n",
        "items=items.split(',')\n",
        "final_bill=0\n",
        "for items in items:\n",
        "  items=items.strip()\n",
        "  if items in vegetables:\n",
        "    quantity=int(input(f'enter the quantity of vegetables{items}:'))\n",
        "    cost=0\n",
        "    if items=='brinjal':\n",
        "      cost=70\n",
        "    elif items=='potato':\n",
        "      cost=80\n",
        "    elif items=='carrot':\n",
        "      cost=100\n",
        "    elif items=='capsicum':\n",
        "      cost=90\n",
        "    elif items=='ladysfinger':\n",
        "      cost=40\n",
        "\n",
        "    final_bill+=cost*quantity\n",
        "  else:\n",
        "    print(f'{item} is not available in the store')\n",
        "print(f'total_bill: {final_bill:.2f} rupees only')"
      ]
    },
    {
      "cell_type": "code",
      "source": [],
      "metadata": {
        "id": "LYEZ2PRiigVL"
      },
      "execution_count": null,
      "outputs": []
    }
  ]
}