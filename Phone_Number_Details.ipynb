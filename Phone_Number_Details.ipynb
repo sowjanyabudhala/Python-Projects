{
  "nbformat": 4,
  "nbformat_minor": 0,
  "metadata": {
    "colab": {
      "provenance": []
    },
    "kernelspec": {
      "name": "python3",
      "display_name": "Python 3"
    },
    "language_info": {
      "name": "python"
    }
  },
  "cells": [
    {
      "cell_type": "code",
      "source": [
        "!pip install phonenumbers"
      ],
      "metadata": {
        "colab": {
          "base_uri": "https://localhost:8080/"
        },
        "id": "jhoell4IcRJP",
        "outputId": "b86947f9-32c1-442d-89bb-486d59b88f99"
      },
      "execution_count": null,
      "outputs": [
        {
          "output_type": "stream",
          "name": "stdout",
          "text": [
            "Collecting phonenumbers\n",
            "  Downloading phonenumbers-8.13.52-py2.py3-none-any.whl.metadata (10 kB)\n",
            "Downloading phonenumbers-8.13.52-py2.py3-none-any.whl (2.6 MB)\n",
            "\u001b[2K   \u001b[90m━━━━━━━━━━━━━━━━━━━━━━━━━━━━━━━━━━━━━━━━\u001b[0m \u001b[32m2.6/2.6 MB\u001b[0m \u001b[31m22.1 MB/s\u001b[0m eta \u001b[36m0:00:00\u001b[0m\n",
            "\u001b[?25hInstalling collected packages: phonenumbers\n",
            "Successfully installed phonenumbers-8.13.52\n"
          ]
        }
      ]
    },
    {
      "cell_type": "code",
      "execution_count": null,
      "metadata": {
        "colab": {
          "base_uri": "https://localhost:8080/"
        },
        "id": "uvj7RQ-aa8z1",
        "outputId": "d8f56294-a8ee-4459-8bcd-730c5757476e"
      },
      "outputs": [
        {
          "output_type": "stream",
          "name": "stdout",
          "text": [
            "Enter your number with +__:+917995672832\n",
            "Country Code: 91 National Number: 7995672832\n",
            "('Asia/Calcutta',)\n",
            "Airtel\n"
          ]
        }
      ],
      "source": [
        "import phonenumbers\n",
        "from phonenumbers import timezone,geocoder,carrier\n",
        "number=input('Enter your number with +__:')\n",
        "phone=phonenumbers.parse(number)\n",
        "time=timezone.time_zones_for_number(phone)\n",
        "car=carrier.name_for_number(phone,'en')\n",
        "reg=geocoder.description_for_number(phone,'en')\n",
        "print(phone)\n",
        "print(time)\n",
        "print(car)"
      ]
    },
    {
      "cell_type": "code",
      "source": [],
      "metadata": {
        "id": "Xtyv2mqmcIbB"
      },
      "execution_count": null,
      "outputs": []
    }
  ]
}