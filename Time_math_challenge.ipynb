{
  "nbformat": 4,
  "nbformat_minor": 0,
  "metadata": {
    "colab": {
      "provenance": []
    },
    "kernelspec": {
      "name": "python3",
      "display_name": "Python 3"
    },
    "language_info": {
      "name": "python"
    }
  },
  "cells": [
    {
      "cell_type": "code",
      "execution_count": null,
      "metadata": {
        "id": "ODWSjhJ6MTY3"
      },
      "outputs": [],
      "source": [
        "import random\n",
        "import time\n"
      ]
    },
    {
      "cell_type": "code",
      "source": [
        "operators=['+','-','*']\n",
        "min_operand=3\n",
        "max_operand=12\n",
        "total_problems=10\n",
        "\n",
        "def generate_problem():\n",
        "    left=random.randint(min_operand,max_operand)\n",
        "    right=random.randint(min_operand,max_operand)\n",
        "    operator=random.choice(operators)\n",
        "    expr=str(left)+operator+str(right)\n",
        "    answer=eval(expr)\n",
        "    return expr,answer\n",
        "\n",
        "wrong=0\n",
        "input('Press enter to start')\n",
        "print('--------------------')\n",
        "start_time=time.time()\n",
        "for i in range(total_problems):\n",
        "    expr,answer=generate_problem()\n",
        "    while True:\n",
        "        guess=input('Problem #'+str(i+1)+': '+expr+' = ')\n",
        "        if guess==str(answer):\n",
        "            print('correct')\n",
        "            break\n",
        "        wrong+=1\n",
        "end_time=time.time()\n",
        "total_time=round(end_time-start_time,2)\n",
        "print('--------------------')\n",
        "print('nice work you finished in',total_time,'seconds')"
      ],
      "metadata": {
        "colab": {
          "base_uri": "https://localhost:8080/"
        },
        "id": "2O1K76kvMzV7",
        "outputId": "a0b5f0df-800f-43a6-d0de-3f6dfa4634ac"
      },
      "execution_count": null,
      "outputs": [
        {
          "output_type": "stream",
          "name": "stdout",
          "text": [
            "Press enter to start23\n",
            "--------------------\n",
            "Problem #1: 4-3 = 1\n",
            "correct\n",
            "Problem #2: 12*5 = 60\n",
            "correct\n",
            "Problem #3: 10*5 = 15\n",
            "Problem #3: 10*5 = 50\n",
            "correct\n",
            "Problem #4: 5*9 = 45\n",
            "correct\n",
            "Problem #5: 10-11 = 1\n",
            "Problem #5: 10-11 = 0\n",
            "Problem #5: 10-11 = 9\n",
            "Problem #5: 10-11 = 1\n",
            "Problem #5: 10-11 = -1\n",
            "correct\n",
            "Problem #6: 7+7 = 14\n",
            "correct\n",
            "Problem #7: 6+3 = 9\n",
            "correct\n",
            "Problem #8: 6*4 = 24\n",
            "correct\n",
            "Problem #9: 9+5 = 14\n",
            "correct\n",
            "Problem #10: 5+6 = 11\n",
            "correct\n",
            "--------------------\n",
            "nice work you finished in 95.21 seconds\n"
          ]
        }
      ]
    },
    {
      "cell_type": "code",
      "source": [],
      "metadata": {
        "id": "sGQ0m0blOLni"
      },
      "execution_count": null,
      "outputs": []
    }
  ]
}