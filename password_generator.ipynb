{
  "nbformat": 4,
  "nbformat_minor": 0,
  "metadata": {
    "colab": {
      "provenance": []
    },
    "kernelspec": {
      "name": "python3",
      "display_name": "Python 3"
    },
    "language_info": {
      "name": "python"
    }
  },
  "cells": [
    {
      "cell_type": "code",
      "execution_count": null,
      "metadata": {
        "id": "tZA_FkqaPRNv"
      },
      "outputs": [],
      "source": [
        "import random\n",
        "import string #to grab all the lower_case,upper_case letters and all special_characters,numbers & digits"
      ]
    },
    {
      "cell_type": "code",
      "source": [
        "def generate_password(min_length,numbers=True, special_characters=True):\n",
        "    letters = string.ascii_letters\n",
        "    digits = string.digits\n",
        "    special = string.punctuation\n",
        "\n",
        "    characters = letters\n",
        "    if numbers:\n",
        "        characters += digits\n",
        "    if special_characters:\n",
        "        characters += special\n",
        "\n",
        "    pwd = \"\"\n",
        "    meets_criteria = False\n",
        "    has_number = False\n",
        "    has_special = False\n",
        "    while not meets_criteria or len(pwd) < min_length:\n",
        "        new_char = random.choice(characters)\n",
        "        pwd += new_char\n",
        "        if new_char in digits:\n",
        "            has_number = True\n",
        "        elif new_char in special:\n",
        "            has_special = True\n",
        "        meets_criteria = True\n",
        "        if numbers:\n",
        "            meets_criteria = has_number\n",
        "        if special_characters:\n",
        "            meets_criteria = meets_criteria and has_special\n",
        "    return pwd\n",
        "min_length = int(input(\"Enter the minimum length: \"))\n",
        "has_number = input(\"Do you want to have numbers (y/n)? \").lower() == \"y\"\n",
        "has_special = input(\"Do you want to have special characters (y/n)? \").lower() == \"y\"\n",
        "pwd=generate_password(min_length, has_number, has_special)\n",
        "print(\"The generated password is:\", pwd)"
      ],
      "metadata": {
        "colab": {
          "base_uri": "https://localhost:8080/"
        },
        "id": "eLmBt55HP0Mg",
        "outputId": "9e040475-6498-4051-8f0b-67cd7a17501e"
      },
      "execution_count": null,
      "outputs": [
        {
          "output_type": "stream",
          "name": "stdout",
          "text": [
            "Enter the minimum length: 10\n",
            "Do you want to have numbers (y/n)? n\n",
            "Do you want to have special characters (y/n)? y\n",
            "The generated password is: P/x-?uDIHy\n"
          ]
        }
      ]
    },
    {
      "cell_type": "code",
      "source": [],
      "metadata": {
        "id": "HWaNl5vyRO7X"
      },
      "execution_count": null,
      "outputs": []
    }
  ]
}